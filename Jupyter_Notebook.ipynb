{
 "cells": [
  {
   "cell_type": "markdown",
   "metadata": {},
   "source": [
    "<center>\n",
    "    <img src=\"https://cf-courses-data.s3.us.cloud-object-storage.appdomain.cloud/IBMDeveloperSkillsNetwork-DS0105EN-SkillsNetwork/labs/Module2/images/SN_web_lightmode.png\" width=\"300\" alt=\"cognitiveclass.ai logo\">\n",
    "</center>\n"
   ]
  },
  {
   "cell_type": "markdown",
   "metadata": {},
   "source": [
    "# Tarea modulo 5"
   ]
  },
  {
   "cell_type": "markdown",
   "metadata": {},
   "source": [
    "## Introducción: en esta tarea del Curso IBM SkillBuild de múltiples herramientas de la ciencia de datos, se utilizará Jupyterlite Notebook, la cual sera compartida con los compañeros de clase por medio de la plataforma GitHub."
   ]
  },
  {
   "cell_type": "markdown",
   "metadata": {},
   "source": [
    "### lenguages de ciencia de datos:\n",
    "1- Python\n",
    "2- R\n",
    "3- SQL\n",
    "4- Julia\n",
    "5- Java\n",
    "6- C++\n",
    "7- Scala"
   ]
  },
  {
   "cell_type": "markdown",
   "metadata": {},
   "source": [
    "### listado de librerias en ciencia de datos\n",
    "- Numpy\n",
    "- Pandas\n",
    "- Matplotlib\n",
    "- ggplot2\n",
    "- tidyr\n",
    "- caret\n",
    "- randomForest\n",
    "- Plotly"
   ]
  },
  {
   "cell_type": "markdown",
   "metadata": {},
   "source": [
    "## Herramientas Esenciales para Ciencia de Datos\n",
    "\n",
    "| Herramienta | Descripción | Lenguaje Principal | Uso Principal |\n",
    "|---|---|---|---|\n",
    "| **Python** | Lenguaje de programación versátil para análisis de datos, machine learning y más. | Python | Análisis de datos, machine learning, deep learning |\n",
    "| **R** | Lenguaje y entorno de software para estadística y gráficos. | R | Estadística, visualización de datos, bioinformática |\n",
    "| **SQL** | Lenguaje de consulta estructurado para gestionar y manipular bases de datos. | SQL | Gestión de bases de datos, extracción de datos |\n",
    "| **Jupyter Notebook** | Entorno interactivo para crear y compartir documentos que contienen código, visualizaciones y texto. | Python, R, Julia | Análisis de datos exploratorio, creación de prototipos |\n",
    "| **Pandas** | Biblioteca Python para manipulación y análisis de datos. | Python | Limpieza de datos, transformación, análisis exploratorio |\n",
    "| **NumPy** | Biblioteca Python para computación numérica. | Python | Operaciones matemáticas en arreglos de alta dimensión |\n",
    "| **Matplotlib** | Biblioteca Python para crear visualizaciones estáticas, animadas e interactivas. | Python | Visualización de datos |\n",
    "| **Seaborn** | Biblioteca Python basada en Matplotlib para crear visualizaciones estadísticas atractivas. | Python | Visualización de datos estadísticos |\n",
    "| **Scikit-learn** | Biblioteca Python para machine learning. | Python | Modelado predictivo, clasificación, regresión |\n",
    "| **TensorFlow** | Biblioteca de software de código abierto para machine learning. | Python | Deep learning, redes neuronales artificiales |\n",
    "\n",
    "**Personalización:**\n",
    "\n",
    "* **Añadir más herramientas:** Puedes agregar filas para incluir otras herramientas como PyTorch, Keras, Apache Spark, etc.\n",
    "* **Más detalles:** Amplía la descripción de cada herramienta para incluir características clave, casos de uso específicos o enlaces a documentación.\n",
    "* **Categorizar:** Agrupa las herramientas por categoría (e.g., manipulación de datos, visualización, machine learning) utilizando encabezados de nivel 3.\n",
    "* **Formateado:** Utiliza Markdown para dar formato al texto (negrita, cursiva, listas, enlaces) y crear una tabla más atractiva.\n",
    "* **Imágenes:** Incorpora imágenes de logotipos o capturas de pantalla para una mejor visualización.\n",
    "\n",
    "**Ejemplo con formato y categorías:**\n",
    "\n",
    "```markdown\n",
    "## Herramientas Esenciales para Ciencia de Datos\n",
    "\n",
    "### Manipulación de Datos\n",
    "| Herramienta | Descripción | Lenguaje Principal | Uso Principal |\n",
    "|---|---|---|---|\n",
    "| **Pandas** | Biblioteca Python para manipulación y análisis de datos. | Python | Limpieza de datos, transformación, análisis exploratorio |\n",
    "| **SQL** | Lenguaje de consulta estructurado para gestionar y manipular bases de datos. | SQL | Gestión de bases de datos, extracción de datos |\n",
    "\n",
    "### Visualización\n",
    "| Herramienta | Descripción | Lenguaje Principal | Uso Principal |\n",
    "|---|---|---|---|\n",
    "| **Matplotlib** | Biblioteca Python para crear visualizaciones estáticas, animadas e interactivas. | Python | Visualización de datos |\n",
    "| **Seaborn** | Biblioteca Python basada en Matplotlib para crear visualizaciones estadísticas atractivas. | Python | Visualización de datos estadísticos |\n",
    "\n",
    "### Machine Learning\n",
    "| Herramienta | Descripción | Lenguaje Principal | Uso Principal |\n",
    "|---|---|---|---|\n",
    "| **Scikit-learn** | Biblioteca Python para machine learning. | Python | Modelado predictivo, clasificación, regresión |\n",
    "| **TensorFlow** | Biblioteca de software de código abierto para machine learning. | Python | Deep learning, redes neuronales artificiales |"
   ]
  },
  {
   "cell_type": "markdown",
   "metadata": {},
   "source": [
    "## Expresiones Aritméticas \n",
    "\n",
    "Markdown no es un lenguaje de programación diseñado específicamente para realizar cálculos matemáticos complejos. Sin embargo, podemos utilizar el formato de texto plano de Markdown para representar expresiones aritméticas de forma sencilla.\n",
    "\n",
    "**Nota:** Para ejecutar estas expresiones y obtener resultados numéricos, necesitarás utilizar un kernel que soporte cálculos numéricos, como Python (con bibliotecas como NumPy) o R.\n",
    "\n",
    "### Ejemplos básicos\n",
    "* **Suma:** 2 + 3\n",
    "* **Resta:** 5 - 2\n",
    "* **Multiplicación:** 4 * 6\n",
    "* **División:** 10 / 2\n",
    "\n",
    "### Expresiones más complejas\n",
    "* **Combinación de operaciones:** (2 + 3) * 4\n",
    "* **Potencias:** 2^3 (equivalente a 2 elevado a la 3)\n",
    "* **Raíces:** sqrt(16)\n",
    "\n",
    "### Utilizando LaTeX para fórmulas más complejas\n",
    "Para representar fórmulas matemáticas más elaboradas, podemos utilizar la sintaxis de LaTeX dentro de nuestros documentos Markdown. Rodea la expresión LaTeX con doble signo de dólar ($$):\n",
    "\n",
    "* **Fracciones:** $$\\frac{1}{2}$$\n",
    "* **Sumatorias:** $$\\sum_{i=1}^{n} i^2$$\n",
    "* **Integrales:** $$\\int_0^\\infty e^{-x} dx$$\n",
    "\n",
    "**Ejemplo completo en una celda de Jupyter Notebook (Python):**\n",
    "\n",
    "```python\n",
    "# Importamos la biblioteca NumPy para realizar cálculos numéricos\n",
    "import numpy as np\n",
    "\n",
    "# Definimos algunas variables\n",
    "a = 2\n",
    "b = 3\n",
    "\n",
    "# Realizamos cálculos y los imprimimos\n",
    "print(\"Suma:\", a + b)\n",
    "print(\"Multiplicación:\", a * b)\n",
    "print(\"Potencia:\", np.power(a, b))\n",
    "print(\"Raíz cuadrada:\", np.sqrt(16))"
   ]
  },
  {
   "cell_type": "markdown",
   "metadata": {},
   "source": [
    "### Cree una celda de códigopara multiplicar y sumar números"
   ]
  },
  {
   "cell_type": "code",
   "execution_count": null,
   "metadata": {},
   "outputs": [],
   "source": [
    "# ingrese los números\n",
    "num1 = float(input(\"Ingrese el primer número: \"))\n",
    "num2 = float(input(\"Ingrese el segundo número: \"))\n",
    "\n",
    "# Realizamos las operaciones y las imprimimos\n",
    "resultado_suma = num1 + num2\n",
    "resultado_multiplicacion = num1 * num2\n",
    "\n",
    "print(\"La suma es:\", resultado_suma)\n",
    "print(\"La multiplicación es:\", resultado_multiplicacion)"
   ]
  },
  {
   "cell_type": "markdown",
   "metadata": {},
   "source": [
    "### Cree una celda de código para convertir minutos en horas"
   ]
  },
  {
   "cell_type": "code",
   "execution_count": null,
   "metadata": {},
   "outputs": [],
   "source": [
    "def minutos_a_horas(minutos):\n",
    "  \"\"\"Convierte un número de minutos en horas y minutos.\n",
    "\n",
    "  Args:\n",
    "    minutos: El número de minutos a convertir.\n",
    "\n",
    "  Returns:\n",
    "    Una tupla con el número de horas y minutos.\n",
    "  \"\"\"\n",
    "\n",
    "  horas = minutos // 60\n",
    "  minutos_restantes = minutos % 60\n",
    "  return horas, minutos_restantes\n",
    "\n",
    "# Ejemplo de uso:\n",
    "minutos_totales = 135\n",
    "horas, minutos = minutos_a_horas(minutos_totales)\n",
    "print(f\"{minutos_totales} minutos equivalen a {horas} horas y {minutos} minutos.\")"
   ]
  },
  {
   "cell_type": "markdown",
   "metadata": {},
   "source": [
    "### Inserte una celda de código para listar Objetivos"
   ]
  },
  {
   "cell_type": "code",
   "execution_count": null,
   "metadata": {},
   "outputs": [],
   "source": [
    "# Crear una lista de objetivos\n",
    "objetivos = [\"Aprender Python\", \"Terminar el proyecto\", \"Viajar a Europa\", \"Comprar una casa\"]\n",
    "\n",
    "# Imprimir la lista completa\n",
    "print(objetivos)\n",
    "\n",
    "# Acceder a un objetivo específico\n",
    "print(objetivos[1])  # Imprime el segundo objetivo"
   ]
  },
  {
   "cell_type": "markdown",
   "metadata": {},
   "source": []
  }
 ],
 "metadata": {
  "kernelspec": {
   "display_name": "Python 3 (ipykernel)",
   "language": "python",
   "name": "python3"
  },
  "language_info": {
   "codemirror_mode": {
    "name": "ipython",
    "version": 3
   },
   "file_extension": ".py",
   "mimetype": "text/x-python",
   "name": "python",
   "nbconvert_exporter": "python",
   "pygments_lexer": "ipython3",
   "version": "3.11.9"
  }
 },
 "nbformat": 4,
 "nbformat_minor": 4
}
